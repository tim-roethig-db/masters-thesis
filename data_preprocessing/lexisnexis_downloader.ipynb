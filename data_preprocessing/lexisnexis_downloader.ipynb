{
 "cells": [
  {
   "cell_type": "code",
   "execution_count": 29,
   "id": "693c94a6-a4c1-4362-bc7b-b73d07191ee4",
   "metadata": {},
   "outputs": [],
   "source": [
    "from selenium import webdriver\n",
    "from selenium.webdriver.common.by import By\n",
    "from webdriver_manager.chrome import ChromeDriverManager\n",
    "from selenium.webdriver.common.keys import Keys\n",
    "from selenium.webdriver.support.wait import WebDriverWait\n",
    "from selenium.webdriver.support import expected_conditions as EC\n",
    "import time\n",
    "import re\n",
    "import pandas as pd\n",
    "from pytickersymbols import PyTickerSymbols\n",
    "\n",
    "pd.set_option('display.max_rows', 1000)"
   ]
  },
  {
   "cell_type": "code",
   "execution_count": 30,
   "id": "90f68efa-64a1-45f4-a2e5-3a87ef77674b",
   "metadata": {},
   "outputs": [
    {
     "name": "stderr",
     "output_type": "stream",
     "text": [
      "[WDM] - Downloading: 100%|██████████| 8.08M/8.08M [00:01<00:00, 6.44MB/s]\n",
      "/var/folders/j_/b_733cs12gg2266_mh3cd60m0000gn/T/ipykernel_20766/3870119009.py:1: DeprecationWarning: executable_path has been deprecated, please pass in a Service object\n",
      "  browser  = webdriver.Chrome(ChromeDriverManager().install())\n"
     ]
    }
   ],
   "source": [
    "browser  = webdriver.Chrome(ChromeDriverManager().install())\n",
    "wait = WebDriverWait(browser, 10)\n",
    "\n",
    "browser.get('https://advance.lexis.com/bisacademicresearchhome')\n",
    "wait.until(EC.element_to_be_clickable((By.ID, 'userid'))).send_keys('tim_roethig')\n",
    "wait.until(EC.element_to_be_clickable((By.ID, 'password'))).send_keys('')\n",
    "wait.until(EC.element_to_be_clickable((By.ID, 'signInSbmtBtn'))).click()"
   ]
  },
  {
   "cell_type": "code",
   "execution_count": 31,
   "id": "74743957-cc16-4ea9-8cae-2c89be3dc918",
   "metadata": {},
   "outputs": [],
   "source": [
    "def scrape_stock_news(stock):\n",
    "    browser.get('https://advance.lexis.com/bisacademicresearchhome')\n",
    "\n",
    "    wait.until(EC.element_to_be_clickable((By.CLASS_NAME, 'recent-favorites'))).click()\n",
    "    wait.until(EC.element_to_be_clickable((By.XPATH, '//button[text()=\"Favorisierte Filter \"]'))).click()\n",
    "    wait.until(EC.presence_of_element_located((By.XPATH, '//button[text()=\"masterarbeit \"]')))\n",
    "    element = browser.find_element(By.XPATH, '//button[text()=\"masterarbeit \"]')\n",
    "    browser.execute_script(\"arguments[0].click();\", element)\n",
    "    wait.until(EC.element_to_be_clickable((By.XPATH, '//button[text()=\"OK\"]'))).click()\n",
    "\n",
    "    browser.find_element(By.TAG_NAME, 'lng-expanding-textarea').send_keys(stock)\n",
    "    browser.find_element(By.TAG_NAME, 'lng-search-button').click()\n",
    "\n",
    "    wait.until(EC.element_to_be_clickable((By.ID, 'podfiltersbuttondatestr-news'))).click()\n",
    "    wait.until(EC.presence_of_element_located((By.CLASS_NAME, 'min-val')))\n",
    "    for i in range(20):\n",
    "        browser.find_element(By.CLASS_NAME, 'min-val').send_keys(Keys.BACK_SPACE)\n",
    "    browser.find_element(By.CLASS_NAME, 'min-val').send_keys('01.01.2018')\n",
    "    for i in range(20):\n",
    "        browser.find_element(By.CLASS_NAME, 'max-val').send_keys(Keys.BACK_SPACE)\n",
    "    browser.find_element(By.CLASS_NAME, 'max-val').send_keys('30.09.2022')\n",
    "    browser.find_element(By.XPATH, '//*[@id=\"refine\"]/div[2]/div[4]/button').click()\n",
    "    time.sleep(5)\n",
    "\n",
    "    n_res = wait.until(EC.presence_of_element_located((By.XPATH, '//*[@id=\"content\"]/header/h2/span'))).text\n",
    "    n_res = re.findall(r'\\((.*?)\\)', n_res)[0]\n",
    "    n_res = int(''.join(i for i in n_res if i.isdigit()))\n",
    "    n_res = int((n_res * 0.25) // 50) + 1\n",
    "\n",
    "    for i in range(min(n_res, 10)):\n",
    "        print(i)\n",
    "        flag = True\n",
    "        while(flag):\n",
    "            try:\n",
    "                wait.until(EC.element_to_be_clickable((By.XPATH, '//*[@aria-label=\"Alle Elemente auf dieser Seite auswählen\"]'))).click()\n",
    "                flag = False\n",
    "            except:\n",
    "                pass\n",
    "        time.sleep(1)\n",
    "        flag = 0\n",
    "        while(flag < 5):\n",
    "            try:\n",
    "                flag += 1\n",
    "                wait.until(EC.element_to_be_clickable((By.XPATH, '//*[@aria-label=\"Weiter\"]'))).click()\n",
    "                flag = 10\n",
    "                time.sleep(1)\n",
    "            except:\n",
    "                pass\n",
    "        time.sleep(5)\n",
    "        wait.until(EC.element_to_be_clickable((By.XPATH, '//*[@aria-label=\"Teilen mit Cloud-Speicher\"]'))).click()\n",
    "        wait.until(EC.element_to_be_clickable((By.XPATH, '//*[@aria-label=\"An Dropbox senden (aktuelle Einstellungen)\"]'))).click()\n",
    "        for _ in range(100):\n",
    "            try:\n",
    "                wait.until(EC.element_to_be_clickable((By.ID, 'FileName'))).send_keys(Keys.BACK_SPACE)\n",
    "            except:\n",
    "                pass\n",
    "        file_name = stock.lower().replace(' ', '_').replace('ä', 'ae').replace('ü', 'ue').replace('ö', 'oe').replace('+', '').replace('.', '').replace('ó', 'o') + f'_{i}'\n",
    "        wait.until(EC.element_to_be_clickable((By.ID, 'FileName'))).send_keys(file_name)\n",
    "        flag = True\n",
    "        while(flag):\n",
    "            try:\n",
    "                wait.until(EC.element_to_be_clickable((By.XPATH, '//button[text()=\"Senden\"]'))).click()\n",
    "                flag = False\n",
    "            except:\n",
    "                pass\n",
    "        wait.until(EC.element_to_be_clickable((By.XPATH, '//button[text()=\"Fortfahren\"]'))).click()\n",
    "        time.sleep(20+i)"
   ]
  },
  {
   "cell_type": "code",
   "execution_count": 33,
   "id": "ae8f5834-250f-42cb-ad66-cc71520c4ce5",
   "metadata": {},
   "outputs": [
    {
     "name": "stderr",
     "output_type": "stream",
     "text": [
      "/var/folders/j_/b_733cs12gg2266_mh3cd60m0000gn/T/ipykernel_20766/1626202529.py:11: FutureWarning: The default value of regex will change from True to False in a future version.\n",
      "  stocks['name'] = stocks['name'].str.replace(' & co. kgaa', '')\n",
      "/var/folders/j_/b_733cs12gg2266_mh3cd60m0000gn/T/ipykernel_20766/1626202529.py:12: FutureWarning: The default value of regex will change from True to False in a future version.\n",
      "  stocks['name'] = stocks['name'].str.replace('&co.kgaa', '')\n",
      "/var/folders/j_/b_733cs12gg2266_mh3cd60m0000gn/T/ipykernel_20766/1626202529.py:13: FutureWarning: The default value of regex will change from True to False in a future version.\n",
      "  stocks['name'] = stocks['name'].str.replace(' & co. kg', '')\n"
     ]
    },
    {
     "name": "stdout",
     "output_type": "stream",
     "text": [
      "uniper se\n",
      "0\n",
      "1\n",
      "2\n",
      "3\n",
      "4\n",
      "united internet ag\n",
      "0\n",
      "1\n",
      "2\n",
      "vantage towers ag\n",
      "0\n",
      "varta ag\n",
      "0\n",
      "1\n",
      "verbio vereinigte bioenergie ag\n",
      "0\n",
      "1\n",
      "wacker chemie ag\n",
      "0\n",
      "1\n",
      "2\n",
      "3\n",
      "4\n",
      "5\n",
      "6\n",
      "7\n",
      "8\n",
      "9\n",
      "wacker neuson se\n",
      "0\n",
      "1\n",
      "2\n",
      "westwing group ag\n",
      "0\n",
      "xing ag\n",
      "0\n",
      "zeal network se\n",
      "0\n",
      "1\n",
      "zooplus ag\n",
      "0\n",
      "1\n"
     ]
    }
   ],
   "source": [
    "stock_data = PyTickerSymbols()\n",
    "sdax = list(stock_data.get_stocks_by_index('SDAX'))\n",
    "mdax = list(stock_data.get_stocks_by_index('MDAX'))\n",
    "\n",
    "stocks = list()\n",
    "stocks.extend(sdax)\n",
    "stocks.extend(mdax)\n",
    "\n",
    "stocks = pd.DataFrame(stocks)\n",
    "stocks['name'] = stocks['name'].str.lower()\n",
    "stocks['name'] = stocks['name'].str.replace(' & co. kgaa', '')\n",
    "stocks['name'] = stocks['name'].str.replace('&co.kgaa', '')\n",
    "stocks['name'] = stocks['name'].str.replace(' & co. kg', '')\n",
    "stocks['name'] = stocks['name'].str.replace('vz', '')\n",
    "stocks['name'] = stocks['name'].str.replace('vna', '')\n",
    "stocks.loc[stocks['name']=='strör se', 'name'] = 'ströer se'\n",
    "\n",
    "stocks = stocks[['name', 'symbol']].drop_duplicates().sort_values('name').reset_index(drop=True)\n",
    "stock_list = stocks['name'].to_list()\n",
    "\n",
    "for stock in stock_list[109:]:\n",
    "    print(stock)\n",
    "    scrape_stock_news(stock)\n",
    "    time.sleep(10)"
   ]
  },
  {
   "cell_type": "code",
   "execution_count": 7,
   "id": "25fd98c9-b599-4d47-aa29-876ef4c8cac4",
   "metadata": {},
   "outputs": [
    {
     "data": {
      "text/plain": [
       "1"
      ]
     },
     "execution_count": 7,
     "metadata": {},
     "output_type": "execute_result"
    }
   ],
   "source": [
    "min(10, 1)"
   ]
  },
  {
   "cell_type": "code",
   "execution_count": null,
   "id": "3c6bf742-eb6f-40df-8a8f-bf1646fad87f",
   "metadata": {},
   "outputs": [],
   "source": [
    "    flag = True\n",
    "    while(flag):\n",
    "        try:\n",
    "            wait.until(EC.element_to_be_clickable((By.XPATH, '//*[@aria-label=\"Herunterladen (mit den aktuellen Einstellungen)\"]'))).click()\n",
    "            flag = False\n",
    "        except:\n",
    "            pass\n",
    "    for _ in range(100):\n",
    "        try:\n",
    "            wait.until(EC.element_to_be_clickable((By.ID, 'FileName'))).send_keys(Keys.BACK_SPACE)\n",
    "        except:\n",
    "            pass\n",
    "    wait.until(EC.element_to_be_clickable((By.ID, 'FileName'))).send_keys(stock.lower().replace(' ', '_') + f'_{i}')\n",
    "    flag = True\n",
    "    while(flag):\n",
    "        try:\n",
    "            wait.until(EC.element_to_be_clickable((By.XPATH, '//button[text()=\"Herunterladen\"]'))).click()\n",
    "            flag = False\n",
    "        except:\n",
    "            pass\n",
    "    time.sleep(10)"
   ]
  }
 ],
 "metadata": {
  "kernelspec": {
   "display_name": "Python 3 (ipykernel)",
   "language": "python",
   "name": "python3"
  },
  "language_info": {
   "codemirror_mode": {
    "name": "ipython",
    "version": 3
   },
   "file_extension": ".py",
   "mimetype": "text/x-python",
   "name": "python",
   "nbconvert_exporter": "python",
   "pygments_lexer": "ipython3",
   "version": "3.10.4"
  }
 },
 "nbformat": 4,
 "nbformat_minor": 5
}
