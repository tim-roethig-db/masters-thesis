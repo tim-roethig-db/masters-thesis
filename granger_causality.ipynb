{
 "cells": [
  {
   "cell_type": "code",
   "execution_count": 217,
   "id": "271c136b-3e69-48e7-bd20-74f1e67ee3a6",
   "metadata": {},
   "outputs": [],
   "source": [
    "import numpy as np\n",
    "import pandas as pd\n",
    "from statsmodels.tsa.stattools import adfuller, grangercausalitytests\n",
    "import matplotlib.pyplot as plt"
   ]
  },
  {
   "cell_type": "code",
   "execution_count": 218,
   "id": "f1499082-a7e5-4e09-9e2e-5d89a543dacd",
   "metadata": {},
   "outputs": [],
   "source": [
    "topic_activity = pd.read_csv(\n",
    "    'data/topic_activity.csv', \n",
    "    sep=';',\n",
    "    index_col=['company', 'time_stamp']\n",
    ")\n",
    "\n",
    "stock_prices = pd.read_csv(\n",
    "    'data/stocks_prices_prep.csv', \n",
    "    sep=';',\n",
    "    index_col=['company', 'time_stamp']\n",
    ")\n",
    "\n",
    "df = topic_activity.join(stock_prices)\n",
    "\n",
    "#display(df)"
   ]
  },
  {
   "cell_type": "code",
   "execution_count": 219,
   "id": "07db735a-8896-4d3b-ad07-b57f6bfc4d20",
   "metadata": {},
   "outputs": [
    {
     "name": "stdout",
     "output_type": "stream",
     "text": [
      "Test Statistics: -8.601123779928415\n",
      "p-value: 6.86458867809956e-14\n",
      "critical_values: {'1%': -3.435638861796935, '5%': -2.863875547501718, '10%': -2.5680134763122906}\n",
      "Series is stationary\n"
     ]
    }
   ],
   "source": [
    "result = adfuller(df.loc['adva optical networking se', 'topic_4'].dropna())\n",
    "print(f'Test Statistics: {result[0]}')\n",
    "print(f'p-value: {result[1]}')\n",
    "print(f'critical_values: {result[4]}')\n",
    "if result[1] > 0.05:\n",
    "    print(\"Series is not stationary\")\n",
    "else:\n",
    "    print(\"Series is stationary\")"
   ]
  },
  {
   "cell_type": "code",
   "execution_count": 235,
   "id": "d11bce7b-2fcb-49d7-9344-163b14d05855",
   "metadata": {},
   "outputs": [
    {
     "data": {
      "text/html": [
       "<div>\n",
       "<style scoped>\n",
       "    .dataframe tbody tr th:only-of-type {\n",
       "        vertical-align: middle;\n",
       "    }\n",
       "\n",
       "    .dataframe tbody tr th {\n",
       "        vertical-align: top;\n",
       "    }\n",
       "\n",
       "    .dataframe thead th {\n",
       "        text-align: right;\n",
       "    }\n",
       "</style>\n",
       "<table border=\"1\" class=\"dataframe\">\n",
       "  <thead>\n",
       "    <tr style=\"text-align: right;\">\n",
       "      <th></th>\n",
       "      <th>Total</th>\n",
       "      <th>Relevant</th>\n",
       "    </tr>\n",
       "  </thead>\n",
       "  <tbody>\n",
       "    <tr>\n",
       "      <th>topic_1</th>\n",
       "      <td>105</td>\n",
       "      <td>26</td>\n",
       "    </tr>\n",
       "    <tr>\n",
       "      <th>topic_2</th>\n",
       "      <td>105</td>\n",
       "      <td>36</td>\n",
       "    </tr>\n",
       "    <tr>\n",
       "      <th>topic_3</th>\n",
       "      <td>105</td>\n",
       "      <td>38</td>\n",
       "    </tr>\n",
       "    <tr>\n",
       "      <th>topic_4</th>\n",
       "      <td>105</td>\n",
       "      <td>31</td>\n",
       "    </tr>\n",
       "  </tbody>\n",
       "</table>\n",
       "</div>"
      ],
      "text/plain": [
       "         Total  Relevant\n",
       "topic_1    105        26\n",
       "topic_2    105        36\n",
       "topic_3    105        38\n",
       "topic_4    105        31"
      ]
     },
     "metadata": {},
     "output_type": "display_data"
    },
    {
     "name": "stdout",
     "output_type": "stream",
     "text": [
      "CPU times: user 30.8 s, sys: 14 s, total: 44.8 s\n",
      "Wall time: 5.7 s\n"
     ]
    }
   ],
   "source": [
    "%%time\n",
    "df['price'] = abs(df['price'])\n",
    "gc_df = None\n",
    "for company in sorted(list(set(df.index.get_level_values('company')))):\n",
    "    company_df = df.loc[company, :]\n",
    "    for topic in company_df.columns[:-1]:\n",
    "        company_topic_df = company_df[['price', topic]].dropna()\n",
    "        \n",
    "        try:\n",
    "            gc = grangercausalitytests(\n",
    "                company_topic_df,\n",
    "                maxlag=5,\n",
    "                addconst=True,\n",
    "                verbose=False,\n",
    "            )\n",
    "            gc = {key:{(company, topic): value[0]['ssr_ftest'][1]} for (key, value) in gc.items()}\n",
    "\n",
    "            if gc_df is None:\n",
    "                gc_df = gc.copy()\n",
    "            else:\n",
    "                gc_df = {key:value | gc[key] for (key, value) in gc_df.items()}\n",
    "        except:\n",
    "            pass\n",
    "\n",
    "gc_df = pd.DataFrame.from_dict(gc_df).round(4)\n",
    "gc_df['is_relevant'] = gc_df.min(axis='columns') < 0.05\n",
    "display(gc_df.groupby(level=1)['is_relevant'].agg(\n",
    "    ['count', 'sum']\n",
    ").rename(\n",
    "    columns={\n",
    "        'count': 'Total',\n",
    "        'sum': 'Relevant'\n",
    "    }\n",
    "))"
   ]
  },
  {
   "cell_type": "code",
   "execution_count": null,
   "id": "c35db7f3-9aa7-4f61-bb9d-7fe4c2e035ba",
   "metadata": {},
   "outputs": [],
   "source": []
  }
 ],
 "metadata": {
  "kernelspec": {
   "display_name": "Python 3 (ipykernel)",
   "language": "python",
   "name": "python3"
  },
  "language_info": {
   "codemirror_mode": {
    "name": "ipython",
    "version": 3
   },
   "file_extension": ".py",
   "mimetype": "text/x-python",
   "name": "python",
   "nbconvert_exporter": "python",
   "pygments_lexer": "ipython3",
   "version": "3.10.4"
  }
 },
 "nbformat": 4,
 "nbformat_minor": 5
}
