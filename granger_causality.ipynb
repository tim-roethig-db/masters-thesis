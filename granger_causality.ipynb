{
 "cells": [
  {
   "cell_type": "code",
   "execution_count": 9,
   "id": "271c136b-3e69-48e7-bd20-74f1e67ee3a6",
   "metadata": {},
   "outputs": [],
   "source": [
    "import numpy as np\n",
    "import pandas as pd\n",
    "from statsmodels.tsa.stattools import adfuller, grangercausalitytests\n",
    "import matplotlib.pyplot as plt"
   ]
  },
  {
   "cell_type": "code",
   "execution_count": 10,
   "id": "f1499082-a7e5-4e09-9e2e-5d89a543dacd",
   "metadata": {},
   "outputs": [],
   "source": [
    "topic_activity = pd.read_csv(\n",
    "    'data/topic_activity.csv', \n",
    "    sep=';',\n",
    "    index_col=['company', 'time_stamp']\n",
    ")\n",
    "\n",
    "stock_prices = pd.read_csv(\n",
    "    'data/stocks_prices_prep.csv', \n",
    "    sep=';',\n",
    "    index_col=['company', 'time_stamp']\n",
    ")\n",
    "\n",
    "df = topic_activity.join(stock_prices)\n",
    "\n",
    "#display(df)"
   ]
  },
  {
   "cell_type": "code",
   "execution_count": 11,
   "id": "07db735a-8896-4d3b-ad07-b57f6bfc4d20",
   "metadata": {},
   "outputs": [
    {
     "name": "stdout",
     "output_type": "stream",
     "text": [
      "Test Statistics: -7.93603768968752\n",
      "p-value: 3.411611584837627e-12\n",
      "critical_values: {'1%': -3.4356560275160835, '5%': -2.8638831211270817, '10%': -2.568017509711682}\n",
      "Series is stationary\n"
     ]
    }
   ],
   "source": [
    "result = adfuller(df.loc['adva optical networking se', 'topic_4'].dropna())\n",
    "print(f'Test Statistics: {result[0]}')\n",
    "print(f'p-value: {result[1]}')\n",
    "print(f'critical_values: {result[4]}')\n",
    "if result[1] > 0.05:\n",
    "    print(\"Series is not stationary\")\n",
    "else:\n",
    "    print(\"Series is stationary\")"
   ]
  },
  {
   "cell_type": "code",
   "execution_count": 16,
   "id": "d11bce7b-2fcb-49d7-9344-163b14d05855",
   "metadata": {},
   "outputs": [
    {
     "name": "stdout",
     "output_type": "stream",
     "text": [
      "\n",
      "Granger Causality\n",
      "number of lags (no zero) 1\n",
      "ssr based F test:         F=9.6571  , p=0.0019  , df_denom=1221, df_num=1\n",
      "ssr based chi2 test:   chi2=9.6808  , p=0.0019  , df=1\n",
      "likelihood ratio test: chi2=9.6427  , p=0.0019  , df=1\n",
      "parameter F test:         F=9.6571  , p=0.0019  , df_denom=1221, df_num=1\n",
      "\n",
      "Granger Causality\n",
      "number of lags (no zero) 2\n",
      "ssr based F test:         F=9.2270  , p=0.0001  , df_denom=1218, df_num=2\n",
      "ssr based chi2 test:   chi2=18.5297 , p=0.0001  , df=2\n",
      "likelihood ratio test: chi2=18.3907 , p=0.0001  , df=2\n",
      "parameter F test:         F=9.2270  , p=0.0001  , df_denom=1218, df_num=2\n",
      "\n",
      "Granger Causality\n",
      "number of lags (no zero) 3\n",
      "ssr based F test:         F=5.9366  , p=0.0005  , df_denom=1215, df_num=3\n",
      "ssr based chi2 test:   chi2=17.9123 , p=0.0005  , df=3\n",
      "likelihood ratio test: chi2=17.7823 , p=0.0005  , df=3\n",
      "parameter F test:         F=5.9366  , p=0.0005  , df_denom=1215, df_num=3\n",
      "\n",
      "Granger Causality\n",
      "number of lags (no zero) 4\n",
      "ssr based F test:         F=4.5316  , p=0.0012  , df_denom=1212, df_num=4\n",
      "ssr based chi2 test:   chi2=18.2609 , p=0.0011  , df=4\n",
      "likelihood ratio test: chi2=18.1257 , p=0.0012  , df=4\n",
      "parameter F test:         F=4.5316  , p=0.0012  , df_denom=1212, df_num=4\n",
      "\n",
      "Granger Causality\n",
      "number of lags (no zero) 5\n",
      "ssr based F test:         F=3.4955  , p=0.0038  , df_denom=1209, df_num=5\n",
      "ssr based chi2 test:   chi2=17.6367 , p=0.0034  , df=5\n",
      "likelihood ratio test: chi2=17.5105 , p=0.0036  , df=5\n",
      "parameter F test:         F=3.4955  , p=0.0038  , df_denom=1209, df_num=5\n"
     ]
    },
    {
     "data": {
      "text/plain": [
       "{1: ({'ssr_ftest': (9.657105451054878, 0.001929755355949934, 1221.0, 1),\n",
       "   'ssr_chi2test': (9.680832982875653, 0.0018620019462680427, 1),\n",
       "   'lrtest': (9.64274994264997, 0.0019010041924098795, 1),\n",
       "   'params_ftest': (9.657105451055115, 0.0019297553559496034, 1221.0, 1.0)},\n",
       "  [<statsmodels.regression.linear_model.RegressionResultsWrapper at 0x7fc70bcf6a10>,\n",
       "   <statsmodels.regression.linear_model.RegressionResultsWrapper at 0x7fc70f3b4eb0>,\n",
       "   array([[0., 1., 0.]])]),\n",
       " 2: ({'ssr_ftest': (9.226963276188425, 0.00010539846531755782, 1218.0, 2),\n",
       "   'ssr_chi2test': (18.52968158748513, 9.469581094626446e-05, 2),\n",
       "   'lrtest': (18.39071184912791, 0.0001015097277103451, 2),\n",
       "   'params_ftest': (9.226963276188371, 0.00010539846531755782, 1218.0, 2.0)},\n",
       "  [<statsmodels.regression.linear_model.RegressionResultsWrapper at 0x7fc70fc1a500>,\n",
       "   <statsmodels.regression.linear_model.RegressionResultsWrapper at 0x7fc6f601db10>,\n",
       "   array([[0., 0., 1., 0., 0.],\n",
       "          [0., 0., 0., 1., 0.]])]),\n",
       " 3: ({'ssr_ftest': (5.936555786152132, 0.0005101449110337117, 1215.0, 3),\n",
       "   'ssr_chi2test': (17.912274495501002, 0.000458558523197445, 3),\n",
       "   'lrtest': (17.782262928149066, 0.00048775029382118246, 3),\n",
       "   'params_ftest': (5.936555786152081, 0.0005101449110337535, 1215.0, 3.0)},\n",
       "  [<statsmodels.regression.linear_model.RegressionResultsWrapper at 0x7fc6f601ce20>,\n",
       "   <statsmodels.regression.linear_model.RegressionResultsWrapper at 0x7fc6f601e9e0>,\n",
       "   array([[0., 0., 0., 1., 0., 0., 0.],\n",
       "          [0., 0., 0., 0., 1., 0., 0.],\n",
       "          [0., 0., 0., 0., 0., 1., 0.]])]),\n",
       " 4: ({'ssr_ftest': (4.531564602121797, 0.0012302885085933412, 1212.0, 4),\n",
       "   'ssr_chi2test': (18.26085933726308, 0.0010973183537679925, 4),\n",
       "   'lrtest': (18.125654135299555, 0.0011662300386203923, 4),\n",
       "   'params_ftest': (4.531564602121823, 0.0012302885085933412, 1212.0, 4.0)},\n",
       "  [<statsmodels.regression.linear_model.RegressionResultsWrapper at 0x7fc6f601fee0>,\n",
       "   <statsmodels.regression.linear_model.RegressionResultsWrapper at 0x7fc6f601d990>,\n",
       "   array([[0., 0., 0., 0., 1., 0., 0., 0., 0.],\n",
       "          [0., 0., 0., 0., 0., 1., 0., 0., 0.],\n",
       "          [0., 0., 0., 0., 0., 0., 1., 0., 0.],\n",
       "          [0., 0., 0., 0., 0., 0., 0., 1., 0.]])]),\n",
       " 5: ({'ssr_ftest': (3.4955404937607146, 0.0038423775984565813, 1209.0, 5),\n",
       "   'ssr_chi2test': (17.63672209424347, 0.0034379040261404994, 5),\n",
       "   'lrtest': (17.51045639810218, 0.0036268582811457345, 5),\n",
       "   'params_ftest': (3.4955404937607546, 0.003842377598456189, 1209.0, 5.0)},\n",
       "  [<statsmodels.regression.linear_model.RegressionResultsWrapper at 0x7fc6f601eb60>,\n",
       "   <statsmodels.regression.linear_model.RegressionResultsWrapper at 0x7fc6f601ee00>,\n",
       "   array([[0., 0., 0., 0., 0., 1., 0., 0., 0., 0., 0.],\n",
       "          [0., 0., 0., 0., 0., 0., 1., 0., 0., 0., 0.],\n",
       "          [0., 0., 0., 0., 0., 0., 0., 1., 0., 0., 0.],\n",
       "          [0., 0., 0., 0., 0., 0., 0., 0., 1., 0., 0.],\n",
       "          [0., 0., 0., 0., 0., 0., 0., 0., 0., 1., 0.]])])}"
      ]
     },
     "metadata": {},
     "output_type": "display_data"
    },
    {
     "data": {
      "text/html": [
       "<div>\n",
       "<style scoped>\n",
       "    .dataframe tbody tr th:only-of-type {\n",
       "        vertical-align: middle;\n",
       "    }\n",
       "\n",
       "    .dataframe tbody tr th {\n",
       "        vertical-align: top;\n",
       "    }\n",
       "\n",
       "    .dataframe thead th {\n",
       "        text-align: right;\n",
       "    }\n",
       "</style>\n",
       "<table border=\"1\" class=\"dataframe\">\n",
       "  <thead>\n",
       "    <tr style=\"text-align: right;\">\n",
       "      <th></th>\n",
       "      <th>Total</th>\n",
       "      <th>Relevant</th>\n",
       "    </tr>\n",
       "  </thead>\n",
       "  <tbody>\n",
       "    <tr>\n",
       "      <th>topic_1</th>\n",
       "      <td>1</td>\n",
       "      <td>1</td>\n",
       "    </tr>\n",
       "  </tbody>\n",
       "</table>\n",
       "</div>"
      ],
      "text/plain": [
       "         Total  Relevant\n",
       "topic_1      1         1"
      ]
     },
     "metadata": {},
     "output_type": "display_data"
    },
    {
     "name": "stdout",
     "output_type": "stream",
     "text": [
      "CPU times: user 152 ms, sys: 118 ms, total: 270 ms\n",
      "Wall time: 78.3 ms\n"
     ]
    }
   ],
   "source": [
    "%%time\n",
    "df['price'] = abs(df['price'])\n",
    "gc_df = None\n",
    "for company in sorted(list(set(df.index.get_level_values('company')))):\n",
    "    company_df = df.loc[company, :]\n",
    "    for topic in company_df.columns[:-1]:\n",
    "        company_topic_df = company_df[['price', topic]].dropna()\n",
    "        \n",
    "        try:\n",
    "            gc = grangercausalitytests(\n",
    "                company_topic_df,\n",
    "                maxlag=5,\n",
    "                addconst=True,\n",
    "                verbose=True,\n",
    "            )\n",
    "            display(gc)\n",
    "            gc = {key:{(company, topic): value[0]['ssr_ftest'][1]} for (key, value) in gc.items()}\n",
    "\n",
    "            if gc_df is None:\n",
    "                gc_df = gc.copy()\n",
    "            else:\n",
    "                gc_df = {key:value | gc[key] for (key, value) in gc_df.items()}\n",
    "        except:\n",
    "            pass\n",
    "        break\n",
    "    break\n",
    "\n",
    "gc_df = pd.DataFrame.from_dict(gc_df).round(4)\n",
    "gc_df['is_relevant'] = gc_df.min(axis='columns') < 0.05\n",
    "display(gc_df.groupby(level=1)['is_relevant'].agg(\n",
    "    ['count', 'sum']\n",
    ").rename(\n",
    "    columns={\n",
    "        'count': 'Total',\n",
    "        'sum': 'Relevant'\n",
    "    }\n",
    ").sort_values('Relevant'))"
   ]
  },
  {
   "cell_type": "code",
   "execution_count": null,
   "id": "c35db7f3-9aa7-4f61-bb9d-7fe4c2e035ba",
   "metadata": {},
   "outputs": [],
   "source": []
  }
 ],
 "metadata": {
  "kernelspec": {
   "display_name": "Python 3 (ipykernel)",
   "language": "python",
   "name": "python3"
  },
  "language_info": {
   "codemirror_mode": {
    "name": "ipython",
    "version": 3
   },
   "file_extension": ".py",
   "mimetype": "text/x-python",
   "name": "python",
   "nbconvert_exporter": "python",
   "pygments_lexer": "ipython3",
   "version": "3.10.4"
  }
 },
 "nbformat": 4,
 "nbformat_minor": 5
}
